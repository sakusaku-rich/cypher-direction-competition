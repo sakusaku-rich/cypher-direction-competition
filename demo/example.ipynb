{
 "cells": [
  {
   "cell_type": "code",
   "execution_count": 6,
   "metadata": {},
   "outputs": [],
   "source": [
    "# NOTE: pandas is not a dependency of this package, but is used here for demonstration purposes\n",
    "import pandas as pd \n",
    "\n",
    "df = pd.read_csv('./data/examples.csv')\n",
    "df.loc[pd.isna(df[\"correct_query\"]), \"correct_query\"] = \"\""
   ]
  },
  {
   "cell_type": "code",
   "execution_count": 7,
   "metadata": {},
   "outputs": [],
   "source": [
    "import sys\n",
    "sys.path.append(\"../src\")"
   ]
  },
  {
   "cell_type": "code",
   "execution_count": 8,
   "metadata": {},
   "outputs": [
    {
     "name": "stdout",
     "output_type": "stream",
     "text": [
      "Accuracy: 1.0\n",
      "CPU times: user 4.8 ms, sys: 90 µs, total: 4.89 ms\n",
      "Wall time: 4.89 ms\n"
     ]
    }
   ],
   "source": [
    "%%time\n",
    "from QueryCorrector import QueryCorrector, load_schemas\n",
    "verbose = False # set to True to print out the schemas and corrected queries\n",
    "n = len(df)\n",
    "n_corrects = 0\n",
    "for i,r in df.iterrows():\n",
    "    schemas = load_schemas(r.schema) # load schemas from string\n",
    "    query_corrector = QueryCorrector(schemas) # initialize query corrector with schemas\n",
    "    corrected = query_corrector(r.statement) # verify and correct query\n",
    "    n_corrects += r.correct_query == corrected\n",
    "    if verbose:\n",
    "        print(f\"Schema: {r.schema}\")\n",
    "        print(f\"Statement: {r.statement}\")\n",
    "        print(f\"Corrected: {corrected}\")\n",
    "        \n",
    "print(f\"Accuracy: {n_corrects/n}\")"
   ]
  },
  {
   "cell_type": "code",
   "execution_count": 9,
   "metadata": {},
   "outputs": [
    {
     "name": "stdout",
     "output_type": "stream",
     "text": [
      "MATCH (p:Person {id:\"Foo\"})-[:WORKS_AT]->(o:Organization) RETURN o.name AS name\n"
     ]
    }
   ],
   "source": [
    "from QueryCorrector import QueryCorrector, load_schemas\n",
    "\n",
    "schema = '(Person, KNOWS, Person), (Person, WORKS_AT, Organization)'\n",
    "schema = load_schemas(schema)\n",
    "query_corrector = QueryCorrector(schema)\n",
    "\n",
    "query = 'MATCH (p:Person {id:\"Foo\"})<-[:WORKS_AT]-(o:Organization) RETURN o.name AS name'\n",
    "corrected = query_corrector(query)\n",
    "print(corrected)"
   ]
  }
 ],
 "metadata": {
  "kernelspec": {
   "display_name": "Python 3",
   "language": "python",
   "name": "python3"
  },
  "language_info": {
   "codemirror_mode": {
    "name": "ipython",
    "version": 3
   },
   "file_extension": ".py",
   "mimetype": "text/x-python",
   "name": "python",
   "nbconvert_exporter": "python",
   "pygments_lexer": "ipython3",
   "version": "3.10.1"
  },
  "orig_nbformat": 4
 },
 "nbformat": 4,
 "nbformat_minor": 2
}
